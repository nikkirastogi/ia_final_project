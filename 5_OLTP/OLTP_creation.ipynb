{
 "cells": [
  {
   "cell_type": "code",
   "execution_count": 2,
   "id": "207dd5b0-9026-4104-89bb-913833c5d556",
   "metadata": {},
   "outputs": [
    {
     "name": "stdout",
     "output_type": "stream",
     "text": [
      "Data loaded successfully from S3 to MySQL\n"
     ]
    }
   ],
   "source": [
    "from sqlalchemy import create_engine\n",
    "import pandas as pd\n",
    "\n",
    "# AWS credentials\n",
    "aws_access_key = 'Access_Key'\n",
    "aws_secret_key = 'Secret_Key'\n",
    "\n",
    "# RDS credentials\n",
    "rds_endpoint = 'iagroup5.cbew08ww8t1e.us-east-2.rds.amazonaws.com'\n",
    "rds_port = '3306'\n",
    "rds_db_name = 'Movies'\n",
    "rds_username = 'admin'\n",
    "rds_password = 'Password'\n",
    "\n",
    "# Load data from S3 into DataFrame\n",
    "s3_path = 's3://final-project-mergedata-group-5-sec-2/final_movie_dataset.csv'\n",
    "df = pd.read_csv(s3_path)\n",
    "\n",
    "# Connect to RDS\n",
    "engine = create_engine(f'mysql+pymysql://{rds_username}:{rds_password}@{rds_endpoint}:{rds_port}/{rds_db_name}')\n",
    "\n",
    "# Write data to MySQL\n",
    "df.to_sql('movie_details', con=engine, if_exists='replace', index=False)\n",
    "\n",
    "print(\"Data loaded successfully from S3 to MySQL\")\n"
   ]
  },
  {
   "cell_type": "code",
   "execution_count": null,
   "id": "2915291c-3f13-4e7b-aa33-8069c5813be2",
   "metadata": {},
   "outputs": [],
   "source": []
  }
 ],
 "metadata": {
  "kernelspec": {
   "display_name": "Python 3 (ipykernel)",
   "language": "python",
   "name": "python3"
  },
  "language_info": {
   "codemirror_mode": {
    "name": "ipython",
    "version": 3
   },
   "file_extension": ".py",
   "mimetype": "text/x-python",
   "name": "python",
   "nbconvert_exporter": "python",
   "pygments_lexer": "ipython3",
   "version": "3.11.5"
  }
 },
 "nbformat": 4,
 "nbformat_minor": 5
}
